{
 "cells": [
  {
   "cell_type": "markdown",
   "id": "e76c9452",
   "metadata": {},
   "source": [
    "# Data Cleaning and Descriptive Statistics\n",
    "## (US Births 2016 - 2021)"
   ]
  },
  {
   "cell_type": "markdown",
   "id": "d4d33d97",
   "metadata": {},
   "source": [
    "# Table of Contents\n",
    "    1. Notebook Prep\n",
    "    2. Missing Values\n",
    "    3. Duplicates\n",
    "    4. Mixed-Type Data\n",
    "    5. Descriptive Statistics\n",
    "    6. Export"
   ]
  },
  {
   "cell_type": "markdown",
   "id": "2cf3982b",
   "metadata": {},
   "source": [
    "### 1. Notebook Prep"
   ]
  },
  {
   "cell_type": "code",
   "execution_count": 1,
   "id": "9d3ae6ff",
   "metadata": {},
   "outputs": [],
   "source": [
    "# Import libraries\n",
    "\n",
    "import pandas as pd\n",
    "import numpy as np\n",
    "import os"
   ]
  },
  {
   "cell_type": "code",
   "execution_count": 2,
   "id": "d1ec15aa",
   "metadata": {},
   "outputs": [],
   "source": [
    "# Define path\n",
    "\n",
    "path = r'D:\\Achievement 6'"
   ]
  },
  {
   "cell_type": "code",
   "execution_count": 3,
   "id": "db2468d6",
   "metadata": {},
   "outputs": [],
   "source": [
    "# Import dataframe\n",
    "\n",
    "df = pd.read_csv(os.path.join(path, '02 Data', 'Original Data', 'US Births 2016-2021.csv'))"
   ]
  },
  {
   "cell_type": "code",
   "execution_count": 4,
   "id": "d58a7a5f",
   "metadata": {},
   "outputs": [],
   "source": [
    "# Rename columns\n",
    "\n",
    "df.rename(columns = {'State': 'state', 'State Abbreviation':'state_abbreviation', 'Year':'year', 'Gender':'gender', 'Education Level of Mother':'education_level', 'Education Level Code':'education_code', 'Number of Births':'number_of_births', 'Average Age of Mother (years)':'avg_mother_age', 'Average Birth Weight (g)':'avg_birth_weight_grams'}, inplace = True)"
   ]
  },
  {
   "cell_type": "code",
   "execution_count": 5,
   "id": "af9789b7",
   "metadata": {},
   "outputs": [
    {
     "data": {
      "text/plain": [
       "(5496, 9)"
      ]
     },
     "execution_count": 5,
     "metadata": {},
     "output_type": "execute_result"
    }
   ],
   "source": [
    "# Get dimensions\n",
    "\n",
    "df.shape"
   ]
  },
  {
   "cell_type": "markdown",
   "id": "2c1a0133",
   "metadata": {},
   "source": [
    "### 2. Missing Values"
   ]
  },
  {
   "cell_type": "code",
   "execution_count": 6,
   "id": "4499b311",
   "metadata": {},
   "outputs": [
    {
     "data": {
      "text/plain": [
       "state                     0\n",
       "state_abbreviation        0\n",
       "year                      0\n",
       "gender                    0\n",
       "education_level           0\n",
       "education_code            0\n",
       "number_of_births          0\n",
       "avg_mother_age            0\n",
       "avg_birth_weight_grams    0\n",
       "dtype: int64"
      ]
     },
     "execution_count": 6,
     "metadata": {},
     "output_type": "execute_result"
    }
   ],
   "source": [
    "# Check null values\n",
    "\n",
    "df.isnull().sum()"
   ]
  },
  {
   "cell_type": "code",
   "execution_count": 7,
   "id": "c892748d",
   "metadata": {},
   "outputs": [
    {
     "data": {
      "text/plain": [
       "Alabama                 108\n",
       "Alaska                  108\n",
       "New Hampshire           108\n",
       "New Jersey              108\n",
       "New Mexico              108\n",
       "New York                108\n",
       "North Carolina          108\n",
       "North Dakota            108\n",
       "Ohio                    108\n",
       "Oklahoma                108\n",
       "Oregon                  108\n",
       "Pennsylvania            108\n",
       "Rhode Island            108\n",
       "South Carolina          108\n",
       "South Dakota            108\n",
       "Tennessee               108\n",
       "Texas                   108\n",
       "Utah                    108\n",
       "Vermont                 108\n",
       "Virginia                108\n",
       "Washington              108\n",
       "West Virginia           108\n",
       "Wisconsin               108\n",
       "Nevada                  108\n",
       "Missouri                108\n",
       "Mississippi             108\n",
       "Idaho                   108\n",
       "Arizona                 108\n",
       "Arkansas                108\n",
       "California              108\n",
       "Colorado                108\n",
       "Connecticut             108\n",
       "Delaware                108\n",
       "District of Columbia    108\n",
       "Florida                 108\n",
       "Georgia                 108\n",
       "Hawaii                  108\n",
       "Illinois                108\n",
       "Indiana                 108\n",
       "Iowa                    108\n",
       "Kansas                  108\n",
       "Kentucky                108\n",
       "Louisiana               108\n",
       "Maryland                108\n",
       "Massachusetts           108\n",
       "Michigan                108\n",
       "Minnesota               108\n",
       "Wyoming                 108\n",
       "Maine                   105\n",
       "Nebraska                104\n",
       "Montana                 103\n",
       "Name: state, dtype: int64"
      ]
     },
     "execution_count": 7,
     "metadata": {},
     "output_type": "execute_result"
    }
   ],
   "source": [
    "# Check values of each column\n",
    "\n",
    "df['state'].value_counts()"
   ]
  },
  {
   "cell_type": "markdown",
   "id": "6243d1cd",
   "metadata": {},
   "source": [
    "Missing rows for Maine, Nebraska, and Montana in certain years, but no blank values."
   ]
  },
  {
   "cell_type": "code",
   "execution_count": 8,
   "id": "b0127673",
   "metadata": {},
   "outputs": [
    {
     "data": {
      "text/plain": [
       "AL    108\n",
       "AK    108\n",
       "NH    108\n",
       "NJ    108\n",
       "NM    108\n",
       "NY    108\n",
       "NC    108\n",
       "ND    108\n",
       "OH    108\n",
       "OK    108\n",
       "OR    108\n",
       "PA    108\n",
       "RI    108\n",
       "SC    108\n",
       "SD    108\n",
       "TN    108\n",
       "TX    108\n",
       "UT    108\n",
       "VT    108\n",
       "VA    108\n",
       "WA    108\n",
       "WV    108\n",
       "WI    108\n",
       "NV    108\n",
       "MO    108\n",
       "MS    108\n",
       "ID    108\n",
       "AZ    108\n",
       "AR    108\n",
       "CA    108\n",
       "CO    108\n",
       "CT    108\n",
       "DE    108\n",
       "DC    108\n",
       "FL    108\n",
       "GA    108\n",
       "HI    108\n",
       "IL    108\n",
       "IN    108\n",
       "IA    108\n",
       "KS    108\n",
       "KY    108\n",
       "LA    108\n",
       "MD    108\n",
       "MA    108\n",
       "MI    108\n",
       "MN    108\n",
       "WY    108\n",
       "ME    105\n",
       "NE    104\n",
       "MT    103\n",
       "Name: state_abbreviation, dtype: int64"
      ]
     },
     "execution_count": 8,
     "metadata": {},
     "output_type": "execute_result"
    }
   ],
   "source": [
    "df['state_abbreviation'].value_counts()"
   ]
  },
  {
   "cell_type": "markdown",
   "id": "30bcd238",
   "metadata": {},
   "source": [
    "Missing abbreviations match missing states."
   ]
  },
  {
   "cell_type": "code",
   "execution_count": 9,
   "id": "eebcb1e3",
   "metadata": {},
   "outputs": [
    {
     "data": {
      "text/plain": [
       "2018    917\n",
       "2019    917\n",
       "2020    916\n",
       "2021    916\n",
       "2016    915\n",
       "2017    915\n",
       "Name: year, dtype: int64"
      ]
     },
     "execution_count": 9,
     "metadata": {},
     "output_type": "execute_result"
    }
   ],
   "source": [
    "df['year'].value_counts()"
   ]
  },
  {
   "cell_type": "code",
   "execution_count": 10,
   "id": "4361b835",
   "metadata": {},
   "outputs": [
    {
     "data": {
      "text/plain": [
       "M    2749\n",
       "F    2747\n",
       "Name: gender, dtype: int64"
      ]
     },
     "execution_count": 10,
     "metadata": {},
     "output_type": "execute_result"
    }
   ],
   "source": [
    "df['gender'].value_counts()"
   ]
  },
  {
   "cell_type": "code",
   "execution_count": 11,
   "id": "1ead5b0c",
   "metadata": {},
   "outputs": [
    {
     "data": {
      "text/plain": [
       "8th grade or less                                                      612\n",
       "9th through 12th grade with no diploma                                 612\n",
       "High school graduate or GED completed                                  612\n",
       "Some college credit, but not a degree                                  612\n",
       "Associate degree (AA, AS)                                              612\n",
       "Bachelor's degree (BA, AB, BS)                                         612\n",
       "Master's degree (MA, MS, MEng, MEd, MSW, MBA)                          612\n",
       "Doctorate (PhD, EdD) or Professional Degree (MD, DDS, DVM, LLB, JD)    612\n",
       "Unknown or Not Stated                                                  600\n",
       "Name: education_level, dtype: int64"
      ]
     },
     "execution_count": 11,
     "metadata": {},
     "output_type": "execute_result"
    }
   ],
   "source": [
    "df['education_level'].value_counts()"
   ]
  },
  {
   "cell_type": "markdown",
   "id": "fc9017ff",
   "metadata": {},
   "source": [
    "The data is categorized and labeled in this column. The number of Unknown values does not reflect actual missing data."
   ]
  },
  {
   "cell_type": "code",
   "execution_count": 12,
   "id": "1aeaf58d",
   "metadata": {},
   "outputs": [
    {
     "data": {
      "text/plain": [
       " 1    612\n",
       " 2    612\n",
       " 3    612\n",
       " 4    612\n",
       " 5    612\n",
       " 6    612\n",
       " 7    612\n",
       " 8    612\n",
       "-9    600\n",
       "Name: education_code, dtype: int64"
      ]
     },
     "execution_count": 12,
     "metadata": {},
     "output_type": "execute_result"
    }
   ],
   "source": [
    "df['education_code'].value_counts()"
   ]
  },
  {
   "cell_type": "code",
   "execution_count": 13,
   "id": "3a82f35c",
   "metadata": {},
   "outputs": [
    {
     "data": {
      "text/plain": [
       "5496"
      ]
     },
     "execution_count": 13,
     "metadata": {},
     "output_type": "execute_result"
    }
   ],
   "source": [
    "df['number_of_births'].value_counts().sum()"
   ]
  },
  {
   "cell_type": "code",
   "execution_count": 14,
   "id": "8d25be7e",
   "metadata": {},
   "outputs": [
    {
     "data": {
      "text/plain": [
       "5496"
      ]
     },
     "execution_count": 14,
     "metadata": {},
     "output_type": "execute_result"
    }
   ],
   "source": [
    "df['avg_mother_age'].value_counts().sum()"
   ]
  },
  {
   "cell_type": "code",
   "execution_count": 15,
   "id": "65807d26",
   "metadata": {},
   "outputs": [
    {
     "data": {
      "text/plain": [
       "5496"
      ]
     },
     "execution_count": 15,
     "metadata": {},
     "output_type": "execute_result"
    }
   ],
   "source": [
    "df['avg_birth_weight_grams'].value_counts().sum()"
   ]
  },
  {
   "cell_type": "markdown",
   "id": "ae6a2ad0",
   "metadata": {},
   "source": [
    "### 3. Duplicates"
   ]
  },
  {
   "cell_type": "code",
   "execution_count": 16,
   "id": "f8e8b624",
   "metadata": {},
   "outputs": [
    {
     "data": {
      "text/plain": [
       "0"
      ]
     },
     "execution_count": 16,
     "metadata": {},
     "output_type": "execute_result"
    }
   ],
   "source": [
    "# Count duplicates\n",
    "\n",
    "df.duplicated().sum()"
   ]
  },
  {
   "cell_type": "markdown",
   "id": "9b7a174a",
   "metadata": {},
   "source": [
    "No duplicates"
   ]
  },
  {
   "cell_type": "markdown",
   "id": "b6af7151",
   "metadata": {},
   "source": [
    "### 4. Mixed-Type Data"
   ]
  },
  {
   "cell_type": "code",
   "execution_count": 17,
   "id": "a96d6487",
   "metadata": {},
   "outputs": [
    {
     "data": {
      "text/plain": [
       "state                      object\n",
       "state_abbreviation         object\n",
       "year                        int64\n",
       "gender                     object\n",
       "education_level            object\n",
       "education_code              int64\n",
       "number_of_births            int64\n",
       "avg_mother_age            float64\n",
       "avg_birth_weight_grams    float64\n",
       "dtype: object"
      ]
     },
     "execution_count": 17,
     "metadata": {},
     "output_type": "execute_result"
    }
   ],
   "source": [
    "# View data types\n",
    "\n",
    "df.dtypes"
   ]
  },
  {
   "cell_type": "code",
   "execution_count": 18,
   "id": "a8737127",
   "metadata": {},
   "outputs": [],
   "source": [
    "for col in df.columns.tolist():\n",
    "    weird = (df[[col]].applymap(type) != df[[col]].iloc[0].apply(type)).any(axis = 1)\n",
    "    if len (df[weird]) > 0:\n",
    "        print(col)"
   ]
  },
  {
   "cell_type": "markdown",
   "id": "6f7c4717",
   "metadata": {},
   "source": [
    "No mixed-type data"
   ]
  },
  {
   "cell_type": "markdown",
   "id": "5973e786",
   "metadata": {},
   "source": [
    "### 5. Descriptive Statistics"
   ]
  },
  {
   "cell_type": "code",
   "execution_count": 20,
   "id": "1d06f548",
   "metadata": {},
   "outputs": [
    {
     "data": {
      "text/html": [
       "<div>\n",
       "<style scoped>\n",
       "    .dataframe tbody tr th:only-of-type {\n",
       "        vertical-align: middle;\n",
       "    }\n",
       "\n",
       "    .dataframe tbody tr th {\n",
       "        vertical-align: top;\n",
       "    }\n",
       "\n",
       "    .dataframe thead th {\n",
       "        text-align: right;\n",
       "    }\n",
       "</style>\n",
       "<table border=\"1\" class=\"dataframe\">\n",
       "  <thead>\n",
       "    <tr style=\"text-align: right;\">\n",
       "      <th></th>\n",
       "      <th>year</th>\n",
       "      <th>education_code</th>\n",
       "      <th>number_of_births</th>\n",
       "      <th>avg_mother_age</th>\n",
       "      <th>avg_birth_weight_grams</th>\n",
       "    </tr>\n",
       "  </thead>\n",
       "  <tbody>\n",
       "    <tr>\n",
       "      <th>count</th>\n",
       "      <td>5496.000000</td>\n",
       "      <td>5496.000000</td>\n",
       "      <td>5496.000000</td>\n",
       "      <td>5496.000000</td>\n",
       "      <td>5496.000000</td>\n",
       "    </tr>\n",
       "    <tr>\n",
       "      <th>mean</th>\n",
       "      <td>2018.500728</td>\n",
       "      <td>3.026201</td>\n",
       "      <td>4115.443959</td>\n",
       "      <td>29.552274</td>\n",
       "      <td>3250.887627</td>\n",
       "    </tr>\n",
       "    <tr>\n",
       "      <th>std</th>\n",
       "      <td>1.707554</td>\n",
       "      <td>4.733406</td>\n",
       "      <td>6687.036797</td>\n",
       "      <td>2.779735</td>\n",
       "      <td>114.456090</td>\n",
       "    </tr>\n",
       "    <tr>\n",
       "      <th>min</th>\n",
       "      <td>2016.000000</td>\n",
       "      <td>-9.000000</td>\n",
       "      <td>10.000000</td>\n",
       "      <td>23.100000</td>\n",
       "      <td>2451.900000</td>\n",
       "    </tr>\n",
       "    <tr>\n",
       "      <th>25%</th>\n",
       "      <td>2017.000000</td>\n",
       "      <td>2.000000</td>\n",
       "      <td>559.000000</td>\n",
       "      <td>27.500000</td>\n",
       "      <td>3182.200000</td>\n",
       "    </tr>\n",
       "    <tr>\n",
       "      <th>50%</th>\n",
       "      <td>2019.000000</td>\n",
       "      <td>4.000000</td>\n",
       "      <td>1692.000000</td>\n",
       "      <td>29.600000</td>\n",
       "      <td>3256.000000</td>\n",
       "    </tr>\n",
       "    <tr>\n",
       "      <th>75%</th>\n",
       "      <td>2020.000000</td>\n",
       "      <td>6.000000</td>\n",
       "      <td>5140.000000</td>\n",
       "      <td>31.800000</td>\n",
       "      <td>3330.825000</td>\n",
       "    </tr>\n",
       "    <tr>\n",
       "      <th>max</th>\n",
       "      <td>2021.000000</td>\n",
       "      <td>8.000000</td>\n",
       "      <td>59967.000000</td>\n",
       "      <td>35.500000</td>\n",
       "      <td>3585.700000</td>\n",
       "    </tr>\n",
       "  </tbody>\n",
       "</table>\n",
       "</div>"
      ],
      "text/plain": [
       "              year  education_code  number_of_births  avg_mother_age  \\\n",
       "count  5496.000000     5496.000000       5496.000000     5496.000000   \n",
       "mean   2018.500728        3.026201       4115.443959       29.552274   \n",
       "std       1.707554        4.733406       6687.036797        2.779735   \n",
       "min    2016.000000       -9.000000         10.000000       23.100000   \n",
       "25%    2017.000000        2.000000        559.000000       27.500000   \n",
       "50%    2019.000000        4.000000       1692.000000       29.600000   \n",
       "75%    2020.000000        6.000000       5140.000000       31.800000   \n",
       "max    2021.000000        8.000000      59967.000000       35.500000   \n",
       "\n",
       "       avg_birth_weight_grams  \n",
       "count             5496.000000  \n",
       "mean              3250.887627  \n",
       "std                114.456090  \n",
       "min               2451.900000  \n",
       "25%               3182.200000  \n",
       "50%               3256.000000  \n",
       "75%               3330.825000  \n",
       "max               3585.700000  "
      ]
     },
     "execution_count": 20,
     "metadata": {},
     "output_type": "execute_result"
    }
   ],
   "source": [
    "df.describe()"
   ]
  },
  {
   "cell_type": "markdown",
   "id": "0b7eb4dd",
   "metadata": {},
   "source": [
    "### 6. Export"
   ]
  },
  {
   "cell_type": "code",
   "execution_count": 21,
   "id": "e558c0e4",
   "metadata": {},
   "outputs": [],
   "source": [
    "# Export cleaned file\n",
    "\n",
    "df.to_csv(os.path.join(path, '02 Data', 'Prepared Data', 'births_cleaned.csv'))"
   ]
  },
  {
   "cell_type": "code",
   "execution_count": null,
   "id": "4fab1996",
   "metadata": {},
   "outputs": [],
   "source": []
  }
 ],
 "metadata": {
  "kernelspec": {
   "display_name": "Python 3 (ipykernel)",
   "language": "python",
   "name": "python3"
  },
  "language_info": {
   "codemirror_mode": {
    "name": "ipython",
    "version": 3
   },
   "file_extension": ".py",
   "mimetype": "text/x-python",
   "name": "python",
   "nbconvert_exporter": "python",
   "pygments_lexer": "ipython3",
   "version": "3.9.13"
  }
 },
 "nbformat": 4,
 "nbformat_minor": 5
}
